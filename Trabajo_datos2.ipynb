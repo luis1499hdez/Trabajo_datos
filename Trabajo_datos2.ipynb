{
  "nbformat": 4,
  "nbformat_minor": 0,
  "metadata": {
    "colab": {
      "provenance": []
    },
    "kernelspec": {
      "name": "python3",
      "display_name": "Python 3"
    },
    "language_info": {
      "name": "python"
    }
  },
  "cells": [
    {
      "cell_type": "markdown",
      "source": [
        "# Selección de datos para modelización\n",
        "\n",
        "Su conjunto de datos contiene demasiadas variables como para que pueda entenderlas o incluso imprimirlas. ¿Cómo puede reducir esta abrumadora cantidad de datos a algo que pueda entender?\n",
        "\n",
        "Empezaremos por seleccionar algunas variables utilizando nuestra intuición. Cursos posteriores le mostrarán técnicas estadísticas para priorizar automáticamente las variables.\n",
        "\n",
        "Para elegir variables/columnas, necesitaremos ver una lista de todas las columnas del conjunto de datos. Eso se hace con la propiedad columns del DataFrame (la línea inferior del código de abajo)."
      ],
      "metadata": {
        "id": "mLckdXHJLHrM"
      }
    },
    {
      "cell_type": "code",
      "source": [
        "import pandas as pd\n",
        "\n",
        "melbourne_file_path = '/content/melb_data.csv'\n",
        "melbourne_data = pd.read_csv(melbourne_file_path) \n",
        "melbourne_data.columns"
      ],
      "metadata": {
        "colab": {
          "base_uri": "https://localhost:8080/"
        },
        "id": "P6DMcoiyO4RC",
        "outputId": "6d31dc61-8c28-4889-92f8-ce4a0d816986"
      },
      "execution_count": 15,
      "outputs": [
        {
          "output_type": "execute_result",
          "data": {
            "text/plain": [
              "Index(['Suburb', 'Address', 'Rooms', 'Type', 'Price', 'Method', 'SellerG',\n",
              "       'Date', 'Distance', 'Postcode', 'Bedroom2', 'Bathroom', 'Car',\n",
              "       'Landsize', 'BuildingArea', 'YearBuilt', 'CouncilArea', 'Lattitude',\n",
              "       'Longtitude', 'Regionname', 'Propertycount'],\n",
              "      dtype='object')"
            ]
          },
          "metadata": {},
          "execution_count": 15
        }
      ]
    },
    {
      "cell_type": "code",
      "source": [
        "# Los datos de Melbourne tienen algunos valores perdidos (algunas casas para las que no se registraron algunas variables).\n",
        "# Aprenderemos a manejar los valores perdidos en un tutorial posterior.  \n",
        "# Tus datos de Iowa no tienen valores perdidos en las columnas que utilizas. \n",
        "# Así que tomaremos la opción más simple por ahora, y eliminaremos las casas de nuestros datos. \n",
        "# No te preocupes mucho por esto por ahora, aunque el código es:\n",
        "\n",
        "# dropna elimina los valores perdidos (piense en na como \"no disponible\")\n",
        "melbourne_data = melbourne_data.dropna(axis=0)"
      ],
      "metadata": {
        "id": "KmvVk27APOvQ"
      },
      "execution_count": 16,
      "outputs": []
    },
    {
      "cell_type": "markdown",
      "source": [
        "# Selección del objetivo de predicción\n",
        "Puede extraer una variable con anotación por puntos. Esta única columna se almacena en una Serie, que a grandes rasgos es como un DataFrame con una única columna de datos.\n",
        "\n",
        "Utilizaremos la notación de puntos para seleccionar la columna que queremos predecir, que se denomina objetivo de predicción. Por convención, el objetivo de predicción se llama y. Así que el código que necesitamos para guardar los precios de la vivienda en los datos de Melbourne es"
      ],
      "metadata": {
        "id": "4CiPLiJUPmk0"
      }
    },
    {
      "cell_type": "code",
      "source": [
        "y = melbourne_data.Price"
      ],
      "metadata": {
        "id": "hyoqSvbIPuDx"
      },
      "execution_count": 17,
      "outputs": []
    },
    {
      "cell_type": "markdown",
      "source": [
        "# Selección de características\n",
        "Las columnas que se introducen en nuestro modelo (y que luego se utilizan para hacer predicciones) se denominan \"características\". En nuestro caso, serían las columnas utilizadas para determinar el precio de la vivienda. A veces, utilizará como características todas las columnas excepto el objetivo. Otras veces será mejor utilizar menos características.\n",
        "\n",
        "Por ahora, construiremos un modelo con sólo unas pocas características. Más adelante verá cómo iterar y comparar modelos construidos con diferentes características.\n",
        "\n",
        "Seleccionamos múltiples características proporcionando una lista de nombres de columnas entre paréntesis. Cada elemento de la lista debe ser una cadena (entre comillas).\n",
        "\n",
        "He aquí un ejemplo:"
      ],
      "metadata": {
        "id": "HRjVy3H3QKm6"
      }
    },
    {
      "cell_type": "code",
      "source": [
        "melbourne_features = ['Rooms', 'Bathroom', 'Landsize', 'Lattitude', 'Longtitude']"
      ],
      "metadata": {
        "id": "bgiwFXl9QXeU"
      },
      "execution_count": 18,
      "outputs": []
    },
    {
      "cell_type": "markdown",
      "source": [
        "Por convención, estos datos se denominan X."
      ],
      "metadata": {
        "id": "bDZLmnm_QcWR"
      }
    },
    {
      "cell_type": "code",
      "source": [
        "X = melbourne_data[melbourne_features]"
      ],
      "metadata": {
        "id": "gh-YLt8xQdpH"
      },
      "execution_count": 19,
      "outputs": []
    },
    {
      "cell_type": "markdown",
      "source": [
        "Repasemos rápidamente los datos que utilizaremos para predecir los precios de la vivienda utilizando el método de descripción y el método de la cabeza, que muestra las primeras filas."
      ],
      "metadata": {
        "id": "GHsEDUX3QfD_"
      }
    },
    {
      "cell_type": "code",
      "source": [
        "## Imprime las primeras filas"
      ],
      "metadata": {
        "id": "d6eTzIATQiW6"
      },
      "execution_count": 20,
      "outputs": []
    },
    {
      "cell_type": "code",
      "source": [
        "X.head()"
      ],
      "metadata": {
        "id": "SEXDhSB_Qmxu",
        "colab": {
          "base_uri": "https://localhost:8080/",
          "height": 206
        },
        "outputId": "ed32a446-ec83-49ca-e46a-73b1ad497ba0"
      },
      "execution_count": null,
      "outputs": [
        {
          "output_type": "execute_result",
          "data": {
            "text/plain": [
              "   Rooms  Bathroom  Landsize  Lattitude  Longtitude\n",
              "1      2       1.0     156.0   -37.8079    144.9934\n",
              "2      3       2.0     134.0   -37.8093    144.9944\n",
              "4      4       1.0     120.0   -37.8072    144.9941\n",
              "6      3       2.0     245.0   -37.8024    144.9993\n",
              "7      2       1.0     256.0   -37.8060    144.9954"
            ],
            "text/html": [
              "\n",
              "  <div id=\"df-dbd758c6-5211-429a-94f6-85cc22621eec\">\n",
              "    <div class=\"colab-df-container\">\n",
              "      <div>\n",
              "<style scoped>\n",
              "    .dataframe tbody tr th:only-of-type {\n",
              "        vertical-align: middle;\n",
              "    }\n",
              "\n",
              "    .dataframe tbody tr th {\n",
              "        vertical-align: top;\n",
              "    }\n",
              "\n",
              "    .dataframe thead th {\n",
              "        text-align: right;\n",
              "    }\n",
              "</style>\n",
              "<table border=\"1\" class=\"dataframe\">\n",
              "  <thead>\n",
              "    <tr style=\"text-align: right;\">\n",
              "      <th></th>\n",
              "      <th>Rooms</th>\n",
              "      <th>Bathroom</th>\n",
              "      <th>Landsize</th>\n",
              "      <th>Lattitude</th>\n",
              "      <th>Longtitude</th>\n",
              "    </tr>\n",
              "  </thead>\n",
              "  <tbody>\n",
              "    <tr>\n",
              "      <th>1</th>\n",
              "      <td>2</td>\n",
              "      <td>1.0</td>\n",
              "      <td>156.0</td>\n",
              "      <td>-37.8079</td>\n",
              "      <td>144.9934</td>\n",
              "    </tr>\n",
              "    <tr>\n",
              "      <th>2</th>\n",
              "      <td>3</td>\n",
              "      <td>2.0</td>\n",
              "      <td>134.0</td>\n",
              "      <td>-37.8093</td>\n",
              "      <td>144.9944</td>\n",
              "    </tr>\n",
              "    <tr>\n",
              "      <th>4</th>\n",
              "      <td>4</td>\n",
              "      <td>1.0</td>\n",
              "      <td>120.0</td>\n",
              "      <td>-37.8072</td>\n",
              "      <td>144.9941</td>\n",
              "    </tr>\n",
              "    <tr>\n",
              "      <th>6</th>\n",
              "      <td>3</td>\n",
              "      <td>2.0</td>\n",
              "      <td>245.0</td>\n",
              "      <td>-37.8024</td>\n",
              "      <td>144.9993</td>\n",
              "    </tr>\n",
              "    <tr>\n",
              "      <th>7</th>\n",
              "      <td>2</td>\n",
              "      <td>1.0</td>\n",
              "      <td>256.0</td>\n",
              "      <td>-37.8060</td>\n",
              "      <td>144.9954</td>\n",
              "    </tr>\n",
              "  </tbody>\n",
              "</table>\n",
              "</div>\n",
              "      <button class=\"colab-df-convert\" onclick=\"convertToInteractive('df-dbd758c6-5211-429a-94f6-85cc22621eec')\"\n",
              "              title=\"Convert this dataframe to an interactive table.\"\n",
              "              style=\"display:none;\">\n",
              "        \n",
              "  <svg xmlns=\"http://www.w3.org/2000/svg\" height=\"24px\"viewBox=\"0 0 24 24\"\n",
              "       width=\"24px\">\n",
              "    <path d=\"M0 0h24v24H0V0z\" fill=\"none\"/>\n",
              "    <path d=\"M18.56 5.44l.94 2.06.94-2.06 2.06-.94-2.06-.94-.94-2.06-.94 2.06-2.06.94zm-11 1L8.5 8.5l.94-2.06 2.06-.94-2.06-.94L8.5 2.5l-.94 2.06-2.06.94zm10 10l.94 2.06.94-2.06 2.06-.94-2.06-.94-.94-2.06-.94 2.06-2.06.94z\"/><path d=\"M17.41 7.96l-1.37-1.37c-.4-.4-.92-.59-1.43-.59-.52 0-1.04.2-1.43.59L10.3 9.45l-7.72 7.72c-.78.78-.78 2.05 0 2.83L4 21.41c.39.39.9.59 1.41.59.51 0 1.02-.2 1.41-.59l7.78-7.78 2.81-2.81c.8-.78.8-2.07 0-2.86zM5.41 20L4 18.59l7.72-7.72 1.47 1.35L5.41 20z\"/>\n",
              "  </svg>\n",
              "      </button>\n",
              "      \n",
              "  <style>\n",
              "    .colab-df-container {\n",
              "      display:flex;\n",
              "      flex-wrap:wrap;\n",
              "      gap: 12px;\n",
              "    }\n",
              "\n",
              "    .colab-df-convert {\n",
              "      background-color: #E8F0FE;\n",
              "      border: none;\n",
              "      border-radius: 50%;\n",
              "      cursor: pointer;\n",
              "      display: none;\n",
              "      fill: #1967D2;\n",
              "      height: 32px;\n",
              "      padding: 0 0 0 0;\n",
              "      width: 32px;\n",
              "    }\n",
              "\n",
              "    .colab-df-convert:hover {\n",
              "      background-color: #E2EBFA;\n",
              "      box-shadow: 0px 1px 2px rgba(60, 64, 67, 0.3), 0px 1px 3px 1px rgba(60, 64, 67, 0.15);\n",
              "      fill: #174EA6;\n",
              "    }\n",
              "\n",
              "    [theme=dark] .colab-df-convert {\n",
              "      background-color: #3B4455;\n",
              "      fill: #D2E3FC;\n",
              "    }\n",
              "\n",
              "    [theme=dark] .colab-df-convert:hover {\n",
              "      background-color: #434B5C;\n",
              "      box-shadow: 0px 1px 3px 1px rgba(0, 0, 0, 0.15);\n",
              "      filter: drop-shadow(0px 1px 2px rgba(0, 0, 0, 0.3));\n",
              "      fill: #FFFFFF;\n",
              "    }\n",
              "  </style>\n",
              "\n",
              "      <script>\n",
              "        const buttonEl =\n",
              "          document.querySelector('#df-dbd758c6-5211-429a-94f6-85cc22621eec button.colab-df-convert');\n",
              "        buttonEl.style.display =\n",
              "          google.colab.kernel.accessAllowed ? 'block' : 'none';\n",
              "\n",
              "        async function convertToInteractive(key) {\n",
              "          const element = document.querySelector('#df-dbd758c6-5211-429a-94f6-85cc22621eec');\n",
              "          const dataTable =\n",
              "            await google.colab.kernel.invokeFunction('convertToInteractive',\n",
              "                                                     [key], {});\n",
              "          if (!dataTable) return;\n",
              "\n",
              "          const docLinkHtml = 'Like what you see? Visit the ' +\n",
              "            '<a target=\"_blank\" href=https://colab.research.google.com/notebooks/data_table.ipynb>data table notebook</a>'\n",
              "            + ' to learn more about interactive tables.';\n",
              "          element.innerHTML = '';\n",
              "          dataTable['output_type'] = 'display_data';\n",
              "          await google.colab.output.renderOutput(dataTable, element);\n",
              "          const docLink = document.createElement('div');\n",
              "          docLink.innerHTML = docLinkHtml;\n",
              "          element.appendChild(docLink);\n",
              "        }\n",
              "      </script>\n",
              "    </div>\n",
              "  </div>\n",
              "  "
            ]
          },
          "metadata": {},
          "execution_count": 17
        }
      ]
    },
    {
      "cell_type": "markdown",
      "source": [
        "Comprobar visualmente los datos con estos comandos es una parte importante del trabajo de un científico de datos. A menudo encontrarás sorpresas en el conjunto de datos que merecen una inspección más detallada."
      ],
      "metadata": {
        "id": "if4js9f7QqMo"
      }
    },
    {
      "cell_type": "markdown",
      "source": [
        "# Creación del modelo\n",
        "Utilizarás la librería scikit-learn para crear tus modelos. Al codificar, esta biblioteca se escribe como sklearn, como verás en el código de ejemplo. Scikit-learn es fácilmente la biblioteca más popular para modelar los tipos de datos típicamente almacenados en DataFrames.\n",
        "\n",
        "Los pasos para construir y utilizar un modelo son:\n",
        "\n",
        "Definir: ¿Qué tipo de modelo será? ¿Un árbol de decisión? ¿Otro tipo de modelo? También se especifican otros parámetros del tipo de modelo.\n",
        "Ajustar: Capturar patrones a partir de los datos proporcionados. Este es el corazón del modelado.\n",
        "Predecir: Justo lo que parece\n",
        "Evaluar: Determinar la precisión de las predicciones del modelo.\n",
        "He aquí un ejemplo de definición de un modelo de árbol de decisión con scikit-learn y su ajuste con las características y la variable objetivo."
      ],
      "metadata": {
        "id": "x18hNCedQ68G"
      }
    },
    {
      "cell_type": "code",
      "source": [
        "from sklearn.tree import DecisionTreeRegressor\n",
        "\n",
        "# Define model. Specify a number for random_state to ensure same results each run\n",
        "melbourne_model = DecisionTreeRegressor(random_state=1)\n",
        "\n",
        "# Fit model\n",
        "melbourne_model.fit(X, y)"
      ],
      "metadata": {
        "id": "ySQyyspWRLBr",
        "colab": {
          "base_uri": "https://localhost:8080/"
        },
        "outputId": "7fd6735e-d239-417a-def8-5b40c23f6a05"
      },
      "execution_count": 21,
      "outputs": [
        {
          "output_type": "execute_result",
          "data": {
            "text/plain": [
              "DecisionTreeRegressor(random_state=1)"
            ]
          },
          "metadata": {},
          "execution_count": 21
        }
      ]
    },
    {
      "cell_type": "markdown",
      "source": [
        "Muchos modelos de aprendizaje automático permiten cierta aleatoriedad en el entrenamiento del modelo. Especificar un número para random_state le asegura obtener los mismos resultados en cada ejecución. Esto se considera una buena práctica. Puede utilizar cualquier número y la calidad del modelo no dependerá significativamente del valor exacto que elija.\n",
        "\n",
        "Ahora tenemos un modelo ajustado que podemos utilizar para hacer predicciones.\n",
        "\n",
        "En la práctica, querremos hacer predicciones para las nuevas viviendas que salgan al mercado y no para las viviendas de las que ya tenemos precios. Pero haremos predicciones para las primeras filas de los datos de entrenamiento para ver cómo funciona la función predecir."
      ],
      "metadata": {
        "id": "dunrmuwJRPPU"
      }
    },
    {
      "cell_type": "code",
      "source": [
        "print(\"Making predictions for the following 5 houses:\")\n",
        "print(X.head())\n",
        "print(\"The predictions are\")\n",
        "print(melbourne_model.predict(X.head()))"
      ],
      "metadata": {
        "id": "sIy-591WRRhj",
        "colab": {
          "base_uri": "https://localhost:8080/"
        },
        "outputId": "26f74811-f598-4c6d-fad7-f6d821068307"
      },
      "execution_count": 22,
      "outputs": [
        {
          "output_type": "stream",
          "name": "stdout",
          "text": [
            "Making predictions for the following 5 houses:\n",
            "   Rooms  Bathroom  Landsize  Lattitude  Longtitude\n",
            "1      2       1.0     156.0   -37.8079    144.9934\n",
            "2      3       2.0     134.0   -37.8093    144.9944\n",
            "4      4       1.0     120.0   -37.8072    144.9941\n",
            "6      3       2.0     245.0   -37.8024    144.9993\n",
            "7      2       1.0     256.0   -37.8060    144.9954\n",
            "The predictions are\n",
            "[1035000. 1465000. 1600000. 1876000. 1636000.]\n"
          ]
        }
      ]
    },
    {
      "cell_type": "markdown",
      "source": [
        "# Tu primer modelo"
      ],
      "metadata": {
        "id": "Subr7P5JRd0X"
      }
    },
    {
      "cell_type": "code",
      "source": [
        "import pandas as pd\n",
        "\n",
        "iowa_file_path = '/content/train.csv'\n",
        "\n",
        "home_data = pd.read_csv(iowa_file_path) "
      ],
      "metadata": {
        "id": "JQtV9Cz2RtRG"
      },
      "execution_count": 8,
      "outputs": []
    },
    {
      "cell_type": "markdown",
      "source": [
        "## Especificar objetivo de predicción\n",
        "Seleccione la variable objetivo, que corresponde al precio de venta. Guárdela en una nueva variable llamada y. Tendrá que imprimir una lista de las columnas para encontrar el nombre de la columna que necesita."
      ],
      "metadata": {
        "id": "9lWtz3zyR1Yk"
      }
    },
    {
      "cell_type": "code",
      "source": [
        "# imprimir la lista de columnas del conjunto de datos para encontrar el nombre del objetivo de predicción\n",
        "home_data.columns"
      ],
      "metadata": {
        "id": "9MOukRfuR6jk",
        "colab": {
          "base_uri": "https://localhost:8080/"
        },
        "outputId": "bc3196da-9c5a-4fce-a8ad-a2bd0ccc7220"
      },
      "execution_count": 9,
      "outputs": [
        {
          "output_type": "execute_result",
          "data": {
            "text/plain": [
              "Index(['Id', 'MSSubClass', 'MSZoning', 'LotFrontage', 'LotArea', 'Street',\n",
              "       'Alley', 'LotShape', 'LandContour', 'Utilities', 'LotConfig',\n",
              "       'LandSlope', 'Neighborhood', 'Condition1', 'Condition2', 'BldgType',\n",
              "       'HouseStyle', 'OverallQual', 'OverallCond', 'YearBuilt', 'YearRemodAdd',\n",
              "       'RoofStyle', 'RoofMatl', 'Exterior1st', 'Exterior2nd', 'MasVnrType',\n",
              "       'MasVnrArea', 'ExterQual', 'ExterCond', 'Foundation', 'BsmtQual',\n",
              "       'BsmtCond', 'BsmtExposure', 'BsmtFinType1', 'BsmtFinSF1',\n",
              "       'BsmtFinType2', 'BsmtFinSF2', 'BsmtUnfSF', 'TotalBsmtSF', 'Heating',\n",
              "       'HeatingQC', 'CentralAir', 'Electrical', '1stFlrSF', '2ndFlrSF',\n",
              "       'LowQualFinSF', 'GrLivArea', 'BsmtFullBath', 'BsmtHalfBath', 'FullBath',\n",
              "       'HalfBath', 'BedroomAbvGr', 'KitchenAbvGr', 'KitchenQual',\n",
              "       'TotRmsAbvGrd', 'Functional', 'Fireplaces', 'FireplaceQu', 'GarageType',\n",
              "       'GarageYrBlt', 'GarageFinish', 'GarageCars', 'GarageArea', 'GarageQual',\n",
              "       'GarageCond', 'PavedDrive', 'WoodDeckSF', 'OpenPorchSF',\n",
              "       'EnclosedPorch', '3SsnPorch', 'ScreenPorch', 'PoolArea', 'PoolQC',\n",
              "       'Fence', 'MiscFeature', 'MiscVal', 'MoSold', 'YrSold', 'SaleType',\n",
              "       'SaleCondition', 'SalePrice'],\n",
              "      dtype='object')"
            ]
          },
          "metadata": {},
          "execution_count": 9
        }
      ]
    },
    {
      "cell_type": "code",
      "source": [
        "y = home_data.SalePrice"
      ],
      "metadata": {
        "id": "FqpK5Lo9R8sO"
      },
      "execution_count": 10,
      "outputs": []
    },
    {
      "cell_type": "markdown",
      "source": [
        "## Crear X"
      ],
      "metadata": {
        "id": "XT1XVrNZSB9z"
      }
    },
    {
      "cell_type": "markdown",
      "source": [
        "Ahora creará un DataFrame llamado X que contendrá las características predictivas.\n",
        "\n",
        "Como sólo quiere algunas columnas de los datos originales, primero creará una lista con los nombres de las columnas que quiere en X.\n",
        "\n",
        "Utilizará sólo las siguientes columnas en la lista (puede copiar y pegar toda la lista para ahorrar algo de escritura, aunque todavía tendrá que añadir comillas):\n",
        "\n",
        "- LotArea\n",
        "- YearBuilt\n",
        "- 1stFlrSF\n",
        "- 2ndFlrSF\n",
        "- FullBath\n",
        "- BedroomAbvGr\n",
        "- TotRmsAbvGrd\n",
        "\n",
        "Después de crear esa lista de características, utilízala para crear el DataFrame que utilizarás para ajustar el modelo."
      ],
      "metadata": {
        "id": "rNrZwgYKSNkm"
      }
    },
    {
      "cell_type": "code",
      "source": [
        "# Crear la lista de características\n",
        "feature_names = ['LotArea', 'YearBuilt', '1stFlrSF', '2ndFlrSF', 'FullBath', 'BedroomAbvGr', 'TotRmsAbvGrd']\n",
        "\n",
        "# Seleccionar los datos correspondientes a las características en feature_names\n",
        "X = home_data[feature_names]"
      ],
      "metadata": {
        "id": "nFkOufhESi0q"
      },
      "execution_count": 11,
      "outputs": []
    },
    {
      "cell_type": "markdown",
      "source": [
        "# Revisar datos\n",
        "Antes de construir un modelo, echa un vistazo rápido a X para verificar que parece sensato"
      ],
      "metadata": {
        "id": "Z1VTJVBaSsb4"
      }
    },
    {
      "cell_type": "code",
      "source": [
        "# Revisar datos\n",
        "X.head()\n",
        "# imprimir descripción o estadísticas de X\n",
        "print(X.describe(),'\\n')\n",
        "# imprimir las primeras lineas\n"
      ],
      "metadata": {
        "id": "z3VUIccGSwza",
        "colab": {
          "base_uri": "https://localhost:8080/"
        },
        "outputId": "3cba6808-6fd5-46e8-ba4b-33d2c0104bc1"
      },
      "execution_count": 14,
      "outputs": [
        {
          "output_type": "stream",
          "name": "stdout",
          "text": [
            "             LotArea    YearBuilt     1stFlrSF     2ndFlrSF     FullBath  \\\n",
            "count    1460.000000  1460.000000  1460.000000  1460.000000  1460.000000   \n",
            "mean    10516.828082  1971.267808  1162.626712   346.992466     1.565068   \n",
            "std      9981.264932    30.202904   386.587738   436.528436     0.550916   \n",
            "min      1300.000000  1872.000000   334.000000     0.000000     0.000000   \n",
            "25%      7553.500000  1954.000000   882.000000     0.000000     1.000000   \n",
            "50%      9478.500000  1973.000000  1087.000000     0.000000     2.000000   \n",
            "75%     11601.500000  2000.000000  1391.250000   728.000000     2.000000   \n",
            "max    215245.000000  2010.000000  4692.000000  2065.000000     3.000000   \n",
            "\n",
            "       BedroomAbvGr  TotRmsAbvGrd  \n",
            "count   1460.000000   1460.000000  \n",
            "mean       2.866438      6.517808  \n",
            "std        0.815778      1.625393  \n",
            "min        0.000000      2.000000  \n",
            "25%        2.000000      5.000000  \n",
            "50%        3.000000      6.000000  \n",
            "75%        3.000000      7.000000  \n",
            "max        8.000000     14.000000   \n",
            "\n"
          ]
        }
      ]
    },
    {
      "cell_type": "markdown",
      "source": [
        "# Especificar y ajustar el modelo\n",
        "Cree un DecisionTreeRegressor y guárdelo en iowa_model. Asegúrese de que ha realizado la importación correspondiente desde sklearn para ejecutar este comando.\n",
        "\n",
        "A continuación, ajuste el modelo que acaba de crear utilizando los datos en **X** y **y** que guardó anteriormente."
      ],
      "metadata": {
        "id": "LKEVkhUSS8WS"
      }
    },
    {
      "cell_type": "code",
      "source": [
        "# Importar DecisionTreeRegressor\n",
        "from sklearn.tree import DecisionTreeRegressor\n",
        "\n",
        "# Especificar el modelo. \n",
        "# Para la reproducibilidad del modelo, establecer un valor numérico para random_state al especificar el modelo.\n",
        "iowa_model = DecisionTreeRegressor(random_state=0)\n",
        "\n",
        "# Hacer Fit al modelo\n",
        "iowa_model.fit(X,y)"
      ],
      "metadata": {
        "id": "rZSGNhZ7TTXF",
        "colab": {
          "base_uri": "https://localhost:8080/"
        },
        "outputId": "8df7f467-4275-457a-dc27-ac5407c20d9b"
      },
      "execution_count": 23,
      "outputs": [
        {
          "output_type": "execute_result",
          "data": {
            "text/plain": [
              "DecisionTreeRegressor(random_state=0)"
            ]
          },
          "metadata": {},
          "execution_count": 23
        }
      ]
    },
    {
      "cell_type": "markdown",
      "source": [
        "# Hacer predicciones\n",
        "Realiza predicciones con el comando predecir del modelo utilizando X como datos. Guarda los resultados en una variable llamada predictions."
      ],
      "metadata": {
        "id": "x7Y55Y7AT-q2"
      }
    },
    {
      "cell_type": "code",
      "source": [
        "print(X.head())\n",
        "print('Predictions:')\n",
        "print(iowa_model.predict(X.head()))\n"
      ],
      "metadata": {
        "id": "0rRi3arnUFLP",
        "colab": {
          "base_uri": "https://localhost:8080/"
        },
        "outputId": "5f275176-5c93-4b21-a111-75a5360cf3c5"
      },
      "execution_count": 24,
      "outputs": [
        {
          "output_type": "stream",
          "name": "stdout",
          "text": [
            "   Rooms  Bathroom  Landsize  Lattitude  Longtitude\n",
            "1      2       1.0     156.0   -37.8079    144.9934\n",
            "2      3       2.0     134.0   -37.8093    144.9944\n",
            "4      4       1.0     120.0   -37.8072    144.9941\n",
            "6      3       2.0     245.0   -37.8024    144.9993\n",
            "7      2       1.0     256.0   -37.8060    144.9954\n",
            "Predictions:\n",
            "[1035000. 1465000. 1600000. 1876000. 1636000.]\n"
          ]
        }
      ]
    }
  ]
}